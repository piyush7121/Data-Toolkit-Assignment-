{
  "nbformat": 4,
  "nbformat_minor": 0,
  "metadata": {
    "colab": {
      "provenance": []
    },
    "kernelspec": {
      "name": "python3",
      "display_name": "Python 3"
    },
    "language_info": {
      "name": "python"
    }
  },
  "cells": [
    {
      "cell_type": "markdown",
      "source": [
        "1. What is NumPy, and why is it widely used in Python?"
      ],
      "metadata": {
        "id": "bWsSXHxNZWih"
      }
    },
    {
      "cell_type": "markdown",
      "source": [
        "NumPy is a powerful Python library used for numerical and scientific computing. It provides efficient support for multi-dimensional arrays and a wide range of mathematical functions to operate on these arrays. NumPy is widely used because it offers fast, vectorized operations through optimized C-backed code, making data processing much quicker than using standard Python lists.\n"
      ],
      "metadata": {
        "id": "Sn4hle-wZdSa"
      }
    },
    {
      "cell_type": "markdown",
      "source": [
        "2. How does broadcasting work in NumPy?"
      ],
      "metadata": {
        "id": "gQJZf3zgZi1M"
      }
    },
    {
      "cell_type": "markdown",
      "source": [
        "Broadcasting in NumPy is a feature that allows arrays of different shapes to be used together in arithmetic operations. When performing operations on arrays of unequal shape, NumPy automatically expands the smaller array across the larger one so their shapes match, without copying data."
      ],
      "metadata": {
        "id": "ylejDb_KZ4KT"
      }
    },
    {
      "cell_type": "markdown",
      "source": [
        "3.What is a Pandas DataFrame?"
      ],
      "metadata": {
        "id": "NszjlwYGaJ68"
      }
    },
    {
      "cell_type": "markdown",
      "source": [
        "A Pandas DataFrame is a two-dimensional, tabular data structure in Python, similar to a spreadsheet or SQL table. It consists of rows and columns, where each column can have a different data type (e.g., integers, strings, floats)."
      ],
      "metadata": {
        "id": "-2tzfTAnaTJj"
      }
    },
    {
      "cell_type": "markdown",
      "source": [
        "4.Explain the use of the groupby() method in Pandas?"
      ],
      "metadata": {
        "id": "1Oevhp5yadJp"
      }
    },
    {
      "cell_type": "markdown",
      "source": [
        "The groupby() method in Pandas is used to group data based on one or more columns and then apply a function to each group, such as sum, mean, or count. It helps in summarizing and analyzing data by categories"
      ],
      "metadata": {
        "id": "pBpb13Jcamlw"
      }
    },
    {
      "cell_type": "markdown",
      "source": [
        "5.Why is Seaborn preferred for statistical visualizations"
      ],
      "metadata": {
        "id": "X1WTKhukay61"
      }
    },
    {
      "cell_type": "markdown",
      "source": [
        "Seaborn is preferred for statistical visualizations because it simplifies the process of creating informative and visually appealing plots."
      ],
      "metadata": {
        "id": "psI7onDOa7C_"
      }
    },
    {
      "cell_type": "markdown",
      "source": [
        "6. A What are the differences between NumPy arrays and Python lists"
      ],
      "metadata": {
        "id": "ys_Go7UMbabB"
      }
    },
    {
      "cell_type": "markdown",
      "source": [
        "NumPy arrays store elements of the same type and are faster and more memory-efficient than Python lists. They support advanced math operations and broadcasting, making them ideal for numerical tasks. Python lists are more flexible with mixed data types but slower and less efficient.\n"
      ],
      "metadata": {
        "id": "cWcyeuYsbyoK"
      }
    },
    {
      "cell_type": "markdown",
      "source": [
        "7. What is a heatmap, and when should it be used"
      ],
      "metadata": {
        "id": "xZAHQDhQb3We"
      }
    },
    {
      "cell_type": "markdown",
      "source": [
        "A heatmap is a visual representation of data using colors to show values in a matrix or table. It’s useful for quickly identifying patterns, correlations, or hotspots in data, especially in large datasets or when analyzing relationships between variables.\n"
      ],
      "metadata": {
        "id": "Z4rpnaeKcZ4a"
      }
    },
    {
      "cell_type": "markdown",
      "source": [
        "8. What does the term “vectorized operation” mean in NumPy?"
      ],
      "metadata": {
        "id": "7yOOnhbpcbhV"
      }
    },
    {
      "cell_type": "markdown",
      "source": [
        "In NumPy, a vectorized operation means performing element-wise calculations on entire arrays at once, without using explicit loops. This makes the code faster and more efficient by leveraging low-level optimizations.\n"
      ],
      "metadata": {
        "id": "7uqC2cq7cv7r"
      }
    },
    {
      "cell_type": "markdown",
      "source": [
        "9.  How does Matplotlib differ from Plotly?"
      ],
      "metadata": {
        "id": "2Sr0M6PJcw7z"
      }
    },
    {
      "cell_type": "markdown",
      "source": [
        "Matplotlib is a static, widely-used Python library for creating basic plots and charts, while Plotly focuses on interactive, web-based visualizations with features like zooming and tooltips. Plotly is more user-friendly for creating dynamic graphs, whereas Matplotlib is better for simple, customizable static images.\n"
      ],
      "metadata": {
        "id": "s1Sq7Bz7dBe_"
      }
    },
    {
      "cell_type": "markdown",
      "source": [
        "10. What is the significance of hierarchical indexing in Pandas?"
      ],
      "metadata": {
        "id": "9rXQj4rxdEXY"
      }
    },
    {
      "cell_type": "markdown",
      "source": [
        "Hierarchical indexing in Pandas allows you to work with multi-level or nested indices on rows or columns, enabling easier organization and analysis of complex, high-dimensional data. It helps simplify data selection, grouping, and reshaping in multi-indexed DataFrames.\n"
      ],
      "metadata": {
        "id": "Nxs4DmNldSuB"
      }
    },
    {
      "cell_type": "markdown",
      "source": [
        "11. What is the role of Seaborn’s pairplot() function?"
      ],
      "metadata": {
        "id": "isoNbBmIdUmF"
      }
    },
    {
      "cell_type": "markdown",
      "source": [
        "Seaborn’s `pairplot()` function creates a grid of scatter plots and histograms to visualize relationships and distributions between multiple variables in a dataset, making it easy to explore correlations and patterns at a glance.\n"
      ],
      "metadata": {
        "id": "m-UDCFukdklS"
      }
    },
    {
      "cell_type": "markdown",
      "source": [
        "12. What is the purpose of the describe() function in Pandas?"
      ],
      "metadata": {
        "id": "dvpGcCdadmKm"
      }
    },
    {
      "cell_type": "markdown",
      "source": [
        "The describe() function in Pandas provides a quick summary of a DataFrame’s numerical data, showing statistics like count, mean, standard deviation, min, and max values.\n"
      ],
      "metadata": {
        "id": "-8llfdqKd22j"
      }
    },
    {
      "cell_type": "markdown",
      "source": [
        "13. Why is handling missing data important in Pandas?"
      ],
      "metadata": {
        "id": "b9JnbNLmd6tu"
      }
    },
    {
      "cell_type": "markdown",
      "source": [
        "Handling missing data in Pandas is important because it ensures accurate analysis and prevents errors or misleading results in data processing and modeling.\n"
      ],
      "metadata": {
        "id": "1GhAGs0id9sC"
      }
    },
    {
      "cell_type": "markdown",
      "source": [
        "14. What are the benefits of using Plotly for data visualization?"
      ],
      "metadata": {
        "id": "IHOjoYxJeYwG"
      }
    },
    {
      "cell_type": "markdown",
      "source": [
        "Plotly offers interactive, easy-to-share visualizations with features like zoom, hover, and dynamic updates, making data exploration and presentation more engaging.\n"
      ],
      "metadata": {
        "id": "2PoDQyfmeyAO"
      }
    },
    {
      "cell_type": "markdown",
      "source": [
        "15. How does NumPy handle multidimensional arrays?"
      ],
      "metadata": {
        "id": "-DpNxrdrezpO"
      }
    },
    {
      "cell_type": "markdown",
      "source": [
        "NumPy handles multidimensional arrays using its `ndarray` structure, which allows efficient storage and operations on data with multiple dimensions, like matrices or tensors.\n"
      ],
      "metadata": {
        "id": "EhVdLSXffHDm"
      }
    },
    {
      "cell_type": "markdown",
      "source": [
        "16. What is the role of Bokeh in data visualization?"
      ],
      "metadata": {
        "id": "BKOzc7lQfJPF"
      }
    },
    {
      "cell_type": "markdown",
      "source": [
        "Bokeh is a Python library for creating interactive, web-ready visualizations that enable users to explore and present data dynamically in browsers.\n"
      ],
      "metadata": {
        "id": "n6l5BxF-fXVh"
      }
    },
    {
      "cell_type": "markdown",
      "source": [
        "17. Explain the difference between apply() and map() in Pandas?"
      ],
      "metadata": {
        "id": "0aE5pJhbfZ9-"
      }
    },
    {
      "cell_type": "markdown",
      "source": [
        "In Pandas, `apply()` is used to apply a function to entire DataFrame rows or columns, while `map()` is used to map values of a Series based on a dictionary or function, mainly for element-wise transformations.\n"
      ],
      "metadata": {
        "id": "4YhHo7hUfoAH"
      }
    },
    {
      "cell_type": "markdown",
      "source": [
        "18.  What are some advanced features of NumPy?"
      ],
      "metadata": {
        "id": "fSDHThDdfpkf"
      }
    },
    {
      "cell_type": "markdown",
      "source": [
        "Advanced NumPy features include broadcasting, vectorized operations, linear algebra functions, random number generation, and support for multidimensional arrays and complex indexing.\n"
      ],
      "metadata": {
        "id": "3ivvGe67f54A"
      }
    },
    {
      "cell_type": "markdown",
      "source": [
        "19. How does Pandas simplify time series analysis?"
      ],
      "metadata": {
        "id": "oB5ycCsZf7Xd"
      }
    },
    {
      "cell_type": "markdown",
      "source": [
        "Pandas simplifies time series analysis with built-in date/time functions, easy resampling, indexing, and handling of missing dates for efficient time-based data manipulation.\n"
      ],
      "metadata": {
        "id": "PFgXIC5QgDuA"
      }
    },
    {
      "cell_type": "markdown",
      "source": [
        "20.  What is the role of a pivot table in Pandas?"
      ],
      "metadata": {
        "id": "v_KNdoGPgN49"
      }
    },
    {
      "cell_type": "markdown",
      "source": [
        "A pivot table in Pandas summarizes and reshapes data by aggregating values based on specified rows and columns, making it easier to analyze and compare datasets.\n"
      ],
      "metadata": {
        "id": "LCOmJ0xcgfk_"
      }
    },
    {
      "cell_type": "markdown",
      "source": [
        "21.  Why is NumPy’s array slicing faster than Python’s list slicing?"
      ],
      "metadata": {
        "id": "YjiFsp1Bgg8D"
      }
    },
    {
      "cell_type": "markdown",
      "source": [
        "NumPy’s array slicing is faster because it works on continuous, fixed-type data blocks with optimized C code, while Python lists are slower due to handling heterogeneous, scattered objects.\n"
      ],
      "metadata": {
        "id": "Eo8547QsgpFk"
      }
    },
    {
      "cell_type": "markdown",
      "source": [
        "22.  What are some common use cases for Seaborn?"
      ],
      "metadata": {
        "id": "08HhhAwfg0yb"
      }
    },
    {
      "cell_type": "markdown",
      "source": [
        "Common use cases for Seaborn include visualizing data distributions, relationships between variables, and categorical comparisons through plots like histograms, scatter plots, box plots, and heatmaps.\n"
      ],
      "metadata": {
        "id": "SvaEB7fxhHX1"
      }
    },
    {
      "cell_type": "markdown",
      "source": [
        "1.  How do you create a 2D NumPy array and calculate the sum of each row?"
      ],
      "metadata": {
        "id": "52oZd-vFhIt6"
      }
    },
    {
      "cell_type": "code",
      "source": [
        "import numpy as np\n",
        "array_2d = np.array([[1, 2, 3], [4, 5, 6], [7, 8, 9]])\n",
        "row_sums = np"
      ],
      "metadata": {
        "id": "ceyWSxXShqE1"
      },
      "execution_count": 1,
      "outputs": []
    },
    {
      "cell_type": "markdown",
      "source": [
        "2.  Write a Pandas script to find the mean of a specific column in a DataFrame?"
      ],
      "metadata": {
        "id": "BXvFuyRviJTK"
      }
    },
    {
      "cell_type": "code",
      "source": [
        "import pandas as pd\n",
        "df = pd.DataFrame({'A': [1, 2, 3], 'B': [4, 5, 6]})\n",
        "mean_of_column_A = df['A'].mean()\n",
        "print(mean_of_column_A)"
      ],
      "metadata": {
        "id": "QbQT4Gceirrq"
      },
      "execution_count": null,
      "outputs": []
    },
    {
      "cell_type": "markdown",
      "source": [
        "3.  Create a scatter plot using Matplotlib?"
      ],
      "metadata": {
        "id": "glMWQldhi7nI"
      }
    },
    {
      "cell_type": "code",
      "source": [
        "import matplotlib.pyplot as plt\n",
        "x = [1, 2, 3, 4, 5]\n",
        "y = [2, 4, 6, 8, 10]\n",
        "plt.scatter(x, y)\n",
        "plt"
      ],
      "metadata": {
        "id": "99cAkGhcjs9e"
      },
      "execution_count": null,
      "outputs": []
    },
    {
      "cell_type": "markdown",
      "source": [
        "4.  How do you calculate the correlation matrix using Seaborn and visualize it with a heatmap?"
      ],
      "metadata": {
        "id": "OJ5v1Oamj1BD"
      }
    },
    {
      "cell_type": "code",
      "source": [
        "import seaborn as sns\n",
        "import pandas as pd\n",
        "df = pd.DataFrame({'A': [1, 2, 3], 'B': [4, 5, 6]})\n",
        "correlation_matrix = df.corr()\n",
        "sns.heatmap(correlation_matrix, annot=True)"
      ],
      "metadata": {
        "id": "F0ZvE_BUkHhN"
      },
      "execution_count": null,
      "outputs": []
    },
    {
      "cell_type": "markdown",
      "source": [
        "5. Generate a bar plot using Plotly?"
      ],
      "metadata": {
        "id": "Yj83z41WkQ_B"
      }
    },
    {
      "cell_type": "code",
      "source": [
        "import plotly.graph_objects as go\n",
        "x = ['A', 'B', 'C']\n",
        "y = [3, 7, 2]\n",
        "fig = go.Figure(data=[go.Bar(x=x, y=y)])\n",
        "fig.show()"
      ],
      "metadata": {
        "id": "RzQZzf0zkfNT"
      },
      "execution_count": null,
      "outputs": []
    },
    {
      "cell_type": "markdown",
      "source": [
        "6. Create a DataFrame and add a new column based on an existing column?"
      ],
      "metadata": {
        "id": "c1tvgNdHkmn2"
      }
    },
    {
      "cell_type": "code",
      "source": [
        "import pandas as pd\n",
        "df = pd.DataFrame({'A': [1, 2, 3], 'B': [4, 5, 6]})\n",
        "df['C'] = df['A'] + df['B']"
      ],
      "metadata": {
        "id": "L3pAw2Bskya_"
      },
      "execution_count": null,
      "outputs": []
    },
    {
      "cell_type": "markdown",
      "source": [
        "7. Write a program to perform element-wise multiplication of two NumPy arrays?"
      ],
      "metadata": {
        "id": "sJMp9DNuk5XE"
      }
    },
    {
      "cell_type": "code",
      "source": [
        "import numpy as np\n",
        "array1 = np.array([1, 2, 3])\n",
        "array2 = np.array([4, 5, 6])\n",
        "result = array1 * array2"
      ],
      "metadata": {
        "id": "CsvKaKJ8k_6F"
      },
      "execution_count": null,
      "outputs": []
    },
    {
      "cell_type": "markdown",
      "source": [
        "8. A Create a line plot with multiple lines using Matplotlib?"
      ],
      "metadata": {
        "id": "599ujwm_lqiU"
      }
    },
    {
      "cell_type": "code",
      "source": [
        "import matplotlib.pyplot as plt\n",
        "x = [1, 2, 3, 4, 5]\n",
        "y1 = [2, 4, 6, 8, 10]"
      ],
      "metadata": {
        "id": "RtmQFxXilrqD"
      },
      "execution_count": null,
      "outputs": []
    },
    {
      "cell_type": "markdown",
      "source": [
        "9. Generate a Pandas DataFrame and filter rows where a column value is greater than a threshold?"
      ],
      "metadata": {
        "id": "7HPCT6wElElp"
      }
    },
    {
      "cell_type": "code",
      "source": [
        "import pandas as pd\n",
        "df = pd.DataFrame({'A': [1, 2, 3], 'B': [4, 5, 6]})\n",
        "filtered_df = df[df['A'] > 1]"
      ],
      "metadata": {
        "id": "5sxACJTylNbb"
      },
      "execution_count": null,
      "outputs": []
    },
    {
      "cell_type": "markdown",
      "source": [
        "10.  Create a histogram using Seaborn to visualize a distribution?"
      ],
      "metadata": {
        "id": "6zGRnR6VlYMV"
      }
    },
    {
      "cell_type": "code",
      "source": [
        "import seaborn as sns\n",
        "import matplotlib.pyplot as plt\n",
        "data = [1, 2, 3, 4, 5]\n",
        "sns.histplot(data)\n",
        "plt.show()"
      ],
      "metadata": {
        "id": "qK6bj0TLl8dN"
      },
      "execution_count": null,
      "outputs": []
    },
    {
      "cell_type": "markdown",
      "source": [
        "11.  Perform matrix multiplication using NumPy?"
      ],
      "metadata": {
        "id": "jdxm5746l_GL"
      }
    },
    {
      "cell_type": "code",
      "source": [
        "import numpy as np\n",
        "array1 = np.array([[1, 2], [3, 4]])\n",
        "array2 = np.array([[5, 6], [7, 8]])\n",
        "result = np.dot(array1, array2)"
      ],
      "metadata": {
        "id": "yvS1lZz1l_Y5"
      },
      "execution_count": null,
      "outputs": []
    },
    {
      "cell_type": "markdown",
      "source": [
        "12.  Use Pandas to load a CSV file and display its first 5 rows?"
      ],
      "metadata": {
        "id": "2zYdlIuTmUPo"
      }
    },
    {
      "cell_type": "code",
      "source": [
        "import pandas as pd\n",
        "df = pd.read_csv('data.csv')\n",
        "print(df.head())"
      ],
      "metadata": {
        "id": "oNTNVokXmUhq"
      },
      "execution_count": null,
      "outputs": []
    },
    {
      "cell_type": "markdown",
      "source": [
        "13. A Create a 3D scatter plot using Plotly?"
      ],
      "metadata": {
        "id": "U8a4zp9XmeKs"
      }
    },
    {
      "cell_type": "code",
      "source": [
        "import plotly.express as px\n",
        "import numpy as np\n",
        "x = np.random.rand(100)\n",
        "y = np.random.rand(100)\n",
        "z = np.random.rand(100)"
      ],
      "metadata": {
        "id": "hM_SdYbNmeYt"
      },
      "execution_count": null,
      "outputs": []
    }
  ]
}